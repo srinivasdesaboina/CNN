{
 "cells": [
  {
   "cell_type": "code",
   "execution_count": 1,
   "id": "d98600cb",
   "metadata": {},
   "outputs": [
    {
     "name": "stdout",
     "output_type": "stream",
     "text": [
      "Requirement already satisfied: ucimlrepo in c:\\users\\nagab\\anaconda3\\lib\\site-packages (0.0.6)\n",
      "Note: you may need to restart the kernel to use updated packages.\n"
     ]
    }
   ],
   "source": [
    "pip install ucimlrepo"
   ]
  },
  {
   "cell_type": "code",
   "execution_count": 5,
   "id": "c80b10fa",
   "metadata": {},
   "outputs": [
    {
     "name": "stdout",
     "output_type": "stream",
     "text": [
      "Epoch 1/5\n",
      "72/72 [==============================] - 2s 15ms/step - loss: 2.0948 - accuracy: 0.3489 - val_loss: 1.3755 - val_accuracy: 0.6798\n",
      "Epoch 2/5\n",
      "72/72 [==============================] - 1s 11ms/step - loss: 0.7771 - accuracy: 0.7601 - val_loss: 0.5773 - val_accuracy: 0.7925\n",
      "Epoch 3/5\n",
      "72/72 [==============================] - 1s 12ms/step - loss: 0.4177 - accuracy: 0.8684 - val_loss: 0.3180 - val_accuracy: 0.9091\n",
      "Epoch 4/5\n",
      "72/72 [==============================] - 1s 12ms/step - loss: 0.2881 - accuracy: 0.9154 - val_loss: 0.2224 - val_accuracy: 0.9269\n",
      "Epoch 5/5\n",
      "72/72 [==============================] - 1s 13ms/step - loss: 0.2287 - accuracy: 0.9317 - val_loss: 0.1673 - val_accuracy: 0.9585\n",
      "18/18 [==============================] - 0s 4ms/step - loss: 0.2640 - accuracy: 0.9288\n",
      "Test accuracy: 0.9288256168365479\n"
     ]
    }
   ],
   "source": [
    "from sklearn.datasets import fetch_openml\n",
    "from sklearn.model_selection import train_test_split\n",
    "from sklearn.preprocessing import LabelBinarizer\n",
    "import numpy as np\n",
    "from tensorflow.keras import models, layers\n",
    "\n",
    "# Fetch dataset\n",
    "optical_recognition_of_handwritten_digits = fetch_openml(name='optdigits', version=1, as_frame=False)\n",
    "\n",
    "# Data preprocessing\n",
    "X = optical_recognition_of_handwritten_digits.data.astype(np.float32)\n",
    "X /= 255.0  # Normalize the data\n",
    "X = X.reshape(-1, 8, 8, 1)  # Reshape the data\n",
    "y = LabelBinarizer().fit_transform(optical_recognition_of_handwritten_digits.target)\n",
    "\n",
    "# Split the data into train and test sets\n",
    "X_train, X_test, y_train, y_test = train_test_split(X, y, test_size=0.1, random_state=42)\n",
    "\n",
    "# Define the CNN model\n",
    "model = models.Sequential()\n",
    "\n",
    "# Convolutional layers\n",
    "model.add(layers.Conv2D(32, (3, 3), activation='relu', padding='same', input_shape=(8, 8, 1)))\n",
    "model.add(layers.MaxPooling2D((2, 2)))\n",
    "model.add(layers.Conv2D(64, (3, 3), activation='relu', padding='same'))\n",
    "model.add(layers.MaxPooling2D((2, 2)))\n",
    "model.add(layers.Conv2D(64, (3, 3), activation='relu', padding='same'))\n",
    "\n",
    "# Fully connected layers\n",
    "model.add(layers.Flatten())\n",
    "model.add(layers.Dense(64, activation='relu'))\n",
    "model.add(layers.Dense(10, activation='softmax'))\n",
    "\n",
    "# Compile the model\n",
    "model.compile(optimizer='adam',\n",
    "              loss='categorical_crossentropy',\n",
    "              metrics=['accuracy'])\n",
    "\n",
    "# Train the model\n",
    "model.fit(X_train, y_train, epochs=5, batch_size=64, validation_split=0.1)\n",
    "\n",
    "# Evaluate the model\n",
    "test_loss, test_acc = model.evaluate(X_test, y_test)\n",
    "print('Test accuracy:', test_acc)\n"
   ]
  },
  {
   "cell_type": "code",
   "execution_count": 8,
   "id": "88e019a7",
   "metadata": {},
   "outputs": [
    {
     "name": "stdout",
     "output_type": "stream",
     "text": [
      "18/18 [==============================] - 0s 3ms/step\n",
      "Accuracy: 0.9288256227758007\n",
      "Precision: 0.9338054972968564\n",
      "Recall: 0.9303490171354225\n",
      "F1 Score: 0.9305122398292612\n",
      "Confusion Matrix:\n",
      " [[49  0  0  0  1  0  1  0  0  0]\n",
      " [ 0 46  0  0  0  0  0  0  3  3]\n",
      " [ 1  0 53  0  0  0  0  0  0  0]\n",
      " [ 0  0  0 53  0  2  0  0  6  0]\n",
      " [ 0  1  0  0 50  0  1  0  1  0]\n",
      " [ 0  0  2  0  1 50  0  0  0  2]\n",
      " [ 0  1  0  0  0  0 56  0  0  0]\n",
      " [ 0  0  0  0  0  0  0 56  2  1]\n",
      " [ 0  1  0  0  1  0  0  0 54  0]\n",
      " [ 0  0  0  3  2  0  0  0  4 55]]\n"
     ]
    }
   ],
   "source": [
    "from sklearn.metrics import accuracy_score, precision_score, recall_score, f1_score, confusion_matrix\n",
    "\n",
    "# Predictions\n",
    "y_pred = model.predict(X_test)\n",
    "y_pred_classes = np.argmax(y_pred, axis=1)\n",
    "y_true = np.argmax(y_test, axis=1)\n",
    "\n",
    "# Accuracy\n",
    "accuracy = accuracy_score(y_true, y_pred_classes)\n",
    "print(\"Accuracy:\", accuracy)\n",
    "\n",
    "# Precision\n",
    "precision = precision_score(y_true, y_pred_classes, average='macro')\n",
    "print(\"Precision:\", precision)\n",
    "\n",
    "# Recall\n",
    "recall = recall_score(y_true, y_pred_classes, average='macro')\n",
    "print(\"Recall:\", recall)\n",
    "\n",
    "# F1 Score\n",
    "f1 = f1_score(y_true, y_pred_classes, average='macro')\n",
    "print(\"F1 Score:\", f1)\n",
    "\n",
    "# Confusion Matrix\n",
    "conf_matrix = confusion_matrix(y_true, y_pred_classes)\n",
    "print(\"Confusion Matrix:\\n\", conf_matrix)\n"
   ]
  },
  {
   "cell_type": "code",
   "execution_count": null,
   "id": "9f27ebe6",
   "metadata": {},
   "outputs": [],
   "source": []
  }
 ],
 "metadata": {
  "kernelspec": {
   "display_name": "Python 3 (ipykernel)",
   "language": "python",
   "name": "python3"
  },
  "language_info": {
   "codemirror_mode": {
    "name": "ipython",
    "version": 3
   },
   "file_extension": ".py",
   "mimetype": "text/x-python",
   "name": "python",
   "nbconvert_exporter": "python",
   "pygments_lexer": "ipython3",
   "version": "3.9.13"
  }
 },
 "nbformat": 4,
 "nbformat_minor": 5
}
